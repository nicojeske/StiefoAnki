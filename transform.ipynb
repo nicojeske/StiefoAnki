{
 "cells": [
  {
   "cell_type": "code",
   "execution_count": 4,
   "metadata": {},
   "outputs": [
    {
     "data": {
      "image/svg+xml": [
       "<svg width=\"470.0\" height=\"120\">\n",
       "<line x1=\"0\" x2=\"100%\" stroke=\"gray\" y1=\"25\" y2=\"25\" stroke-dasharray=\"3\"/><line x1=\"0\" x2=\"100%\" stroke=\"gray\" y1=\"50\" y2=\"50\"/><line x1=\"0\" x2=\"100%\" stroke=\"gray\" y1=\"75\" y2=\"75\"/><line x1=\"0\" x2=\"100%\" stroke=\"gray\" y1=\"100\" y2=\"100\" stroke-dasharray=\"3\"/>\n",
       "\n",
       "<path d=\"M 20.0 75.0 C 20.0 75.0, 37.5 75.0, 45.0 75.0\" fill=\"none\" stroke=\"black\" stroke-width=\"2\"/>\n",
       "<path d=\"M 45.0 75.0 C 51.75 75.0, 60.52525179157085 62.5, 54.15025179157085 62.5\" fill=\"none\" stroke=\"black\" stroke-width=\"2\"/>\n",
       "<path d=\"M 54.15025179157085 62.5 C 49.27525179157085 62.5, 47.137625895785426 68.75, 45.0 75.0\" fill=\"none\" stroke=\"black\" stroke-width=\"2\"/>\n",
       "<path d=\"M 45.0 75.0 C 42.86237410421457 81.25, 40.72474820842914 87.5, 33.22474820842914 87.5\" fill=\"none\" stroke=\"black\" stroke-width=\"2\"/>\n",
       "<path d=\"M 98.55050358314172 50.0 C 98.55050358314172 50.0, 94.27525179157087 62.5, 94.27525179157087 62.5\" fill=\"none\" stroke=\"black\" stroke-width=\"2\"/>\n",
       "<path d=\"M 94.27525179157087 62.5 C 92.13762589578543 68.75, 90.0 75.0, 82.5 75.0\" fill=\"none\" stroke=\"black\" stroke-width=\"2\"/>\n",
       "<path d=\"M 82.5 75.0 C 71.25 75.0, 118.55050358314173 50.0, 129.80050358314173 50.0\" fill=\"none\" stroke=\"black\" stroke-width=\"2\"/>\n",
       "<path d=\"M 129.80050358314173 50.0 C 141.0505035831417 50.0, 136.77525179157084 62.5, 125.52525179157087 62.5\" fill=\"none\" stroke=\"black\" stroke-width=\"2\"/>\n",
       "<path d=\"M 125.52525179157087 62.5 C 110.52525179157087 62.5, 164.80050358314173 50.0, 164.80050358314173 50.0\" fill=\"none\" stroke=\"black\" stroke-width=\"2\"/>\n",
       "<path d=\"M 190.52525179157087 62.5 C 195.45277697072794 61.25, 206.42550358314173 50.0, 199.67550358314173 50.0\" fill=\"none\" stroke=\"black\" stroke-width=\"2\"/>\n",
       "<path d=\"M 199.67550358314173 50.0 C 194.80050358314173 50.0, 192.66287768735629 56.25, 190.52525179157087 62.5\" fill=\"none\" stroke=\"black\" stroke-width=\"2\"/>\n",
       "<path d=\"M 190.52525179157087 62.5 C 189.6702014332567 65.0, 186.25 75.0, 197.5 75.0\" fill=\"none\" stroke=\"black\" stroke-width=\"2\"/>\n",
       "<path d=\"M 197.5 75.0 C 205.0 75.0, 216.15025179157087 62.5, 223.65025179157087 62.5\" fill=\"none\" stroke=\"black\" stroke-width=\"2\"/>\n",
       "<path d=\"M 223.65025179157087 62.5 C 234.90025179157087 62.5, 230.625 75.0, 241.875 75.0\" fill=\"none\" stroke=\"black\" stroke-width=\"2\"/>\n",
       "<path d=\"M 241.875 75.0 C 249.375 75.0, 243.65025179157084 62.5, 251.15025179157087 62.5\" fill=\"none\" stroke=\"black\" stroke-width=\"2\"/>\n",
       "<path d=\"M 251.15025179157087 62.5 C 262.40025179157084 62.5, 265.625 75.0, 265.625 75.0\" fill=\"none\" stroke=\"black\" stroke-width=\"2\"/>\n",
       "<path d=\"M 265.625 75.0 C 265.625 75.0, 286.1502517915709 62.5, 293.6502517915709 62.5\" fill=\"none\" stroke=\"black\" stroke-width=\"2\"/>\n",
       "<path d=\"M 293.6502517915709 62.5 C 304.9002517915709 62.5, 308.125 75.0, 308.125 75.0\" fill=\"none\" stroke=\"black\" stroke-width=\"2\"/>\n",
       "\n",
       "</svg>"
      ],
      "text/plain": [
       "<IPython.core.display.SVG object>"
      ]
     },
     "metadata": {},
     "output_type": "display_data"
    }
   ],
   "source": [
    "from IPython.display import SVG, display\n",
    "from lib import processor\n",
    "\n",
    "\n",
    "processor.text_to_svg(\"Ich hasse lernen\", \"output.svg\")\n",
    "display(SVG(\"output.svg\"))"
   ]
  }
 ],
 "metadata": {
  "kernelspec": {
   "display_name": ".venv",
   "language": "python",
   "name": "python3"
  },
  "language_info": {
   "codemirror_mode": {
    "name": "ipython",
    "version": 3
   },
   "file_extension": ".py",
   "mimetype": "text/x-python",
   "name": "python",
   "nbconvert_exporter": "python",
   "pygments_lexer": "ipython3",
   "version": "3.11.8"
  }
 },
 "nbformat": 4,
 "nbformat_minor": 2
}
