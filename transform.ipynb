{
 "cells": [
  {
   "cell_type": "code",
   "execution_count": 1,
   "metadata": {},
   "outputs": [],
   "source": [
    "import genanki\n",
    "from lib import processor\n",
    "\n",
    "model = genanki.Model(\n",
    "  1647878250,\n",
    "  'Stiefo Model',\n",
    "  fields=[\n",
    "    {'name': 'Picture'},\n",
    "    {'name': 'Text'},\n",
    "  ],\n",
    "  templates=[\n",
    "    {\n",
    "      'name': 'Text -> Picture',\n",
    "      'qfmt': '{{Text}}',\n",
    "      'afmt': '{{FrontSide}}<hr id=\"answer\">{{Picture}}',\n",
    "    },\n",
    "    {\n",
    "      'name': 'Picture -> Text',\n",
    "      'qfmt': '{{Picture}}',\n",
    "      'afmt': '{{FrontSide}}<hr id=\"answer\">{{Text}}',\n",
    "    },\n",
    "    ],\n",
    "    css=\".card {font-family: arial;font-size: 20px;text-align: center;color: black;background-color: white;}\"\n",
    "  )\n",
    "\n",
    "stiefo_deck = genanki.Deck(542127561267, \"Stiefographie\")\n"
   ]
  },
  {
   "cell_type": "code",
   "execution_count": 2,
   "metadata": {},
   "outputs": [],
   "source": [
    "class StiefoNote(genanki.Note):\n",
    "    @property\n",
    "    def guid(self):\n",
    "        return genanki.guid_for(self.fields[0])"
   ]
  },
  {
   "cell_type": "code",
   "execution_count": 3,
   "metadata": {},
   "outputs": [
    {
     "name": "stderr",
     "output_type": "stream",
     "text": [
      "100%|██████████| 38116/38116 [00:06<00:00, 5685.50it/s]\n"
     ]
    }
   ],
   "source": [
    "dek_filename = \"dek_anki_deck.csv\"\n",
    "import csv\n",
    "from typing import List\n",
    "from tqdm import tqdm\n",
    "\n",
    "media_files: List[str] = []\n",
    "\n",
    "forbidden_chars = [\"(\", \")\", \"-\", \"v2\", \"é\", \"~\", \"'\", \":\", \"1\", \"2\", \"3\", \"4\", \"5\", \"6\", \"7\", \"8\", \"9\", \"0\", \",\", \"î\", \"’\"]\n",
    "\n",
    "with open(dek_filename, \"r\", encoding=\"utf-8\") as f:\n",
    "\n",
    "    line_count = sum(1 for _ in f)\n",
    "\n",
    "    f.seek(0)\n",
    "\n",
    "    for entry in tqdm(csv.reader(f, delimiter=\",\"), total=line_count):\n",
    "        word, tag = entry\n",
    "        word = word.replace(\"_\", \" \").replace(\".\",\"\").replace(\"!\", \"\").replace(\"?\", \"\")\n",
    "\n",
    "        if any([char in word for char in forbidden_chars]):\n",
    "            continue\n",
    "    \n",
    "        svg: str = processor.text_to_svg(word)\n",
    "\n",
    "        note = StiefoNote(\n",
    "            model=model,\n",
    "            fields=[f'{svg}', word],\n",
    "            tags=[tag.replace(\" \", \"\")]\n",
    "        )\n",
    "        stiefo_deck.add_note(note)\n"
   ]
  },
  {
   "cell_type": "code",
   "execution_count": 4,
   "metadata": {},
   "outputs": [],
   "source": [
    "export = genanki.Package(stiefo_deck)\n",
    "\n",
    "export.write_to_file(\"stiefo_deck.apkg\")"
   ]
  }
 ],
 "metadata": {
  "kernelspec": {
   "display_name": ".venv",
   "language": "python",
   "name": "python3"
  },
  "language_info": {
   "codemirror_mode": {
    "name": "ipython",
    "version": 3
   },
   "file_extension": ".py",
   "mimetype": "text/x-python",
   "name": "python",
   "nbconvert_exporter": "python",
   "pygments_lexer": "ipython3",
   "version": "3.11.8"
  }
 },
 "nbformat": 4,
 "nbformat_minor": 2
}
